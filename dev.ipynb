{
 "cells": [
  {
   "cell_type": "code",
   "execution_count": 1,
   "metadata": {},
   "outputs": [],
   "source": [
    "import rsa"
   ]
  },
  {
   "cell_type": "code",
   "execution_count": 2,
   "metadata": {},
   "outputs": [],
   "source": [
    "(pub, priv) = rsa.newkeys(128)"
   ]
  },
  {
   "cell_type": "code",
   "execution_count": 4,
   "metadata": {},
   "outputs": [
    {
     "data": {
      "text/plain": [
       "(PublicKey(208918923213732145865433141058923846227, 65537),\n",
       " PrivateKey(208918923213732145865433141058923846227, 65537, 54227685166986550043149517953720205321, 183388041279939752453, 1139217812435325559))"
      ]
     },
     "execution_count": 4,
     "metadata": {},
     "output_type": "execute_result"
    }
   ],
   "source": [
    "pub, priv"
   ]
  },
  {
   "cell_type": "code",
   "execution_count": 116,
   "metadata": {},
   "outputs": [
    {
     "data": {
      "text/plain": [
       "(208918923213732145865433141058923846227,\n",
       " 65537,\n",
       " 54227685166986550043149517953720205321,\n",
       " 183388041279939752453,\n",
       " 1139217812435325559)"
      ]
     },
     "execution_count": 116,
     "metadata": {},
     "output_type": "execute_result"
    }
   ],
   "source": [
    "priv.n, priv.e, priv.d, priv.p, priv.q"
   ]
  },
  {
   "cell_type": "code",
   "execution_count": 7,
   "metadata": {},
   "outputs": [
    {
     "data": {
      "text/plain": [
       "b'xyz'"
      ]
     },
     "execution_count": 7,
     "metadata": {},
     "output_type": "execute_result"
    }
   ],
   "source": [
    "\"xyz\".encode('utf-8')"
   ]
  },
  {
   "cell_type": "code",
   "execution_count": 35,
   "metadata": {},
   "outputs": [
    {
     "data": {
      "text/plain": [
       "PublicKey(208918923213732145865433141058923846227, 65537)"
      ]
     },
     "execution_count": 35,
     "metadata": {},
     "output_type": "execute_result"
    }
   ],
   "source": [
    "pub"
   ]
  },
  {
   "cell_type": "code",
   "execution_count": 59,
   "metadata": {},
   "outputs": [],
   "source": [
    "pub_n = pub.n.to_bytes((pub.n.bit_length() + 7) // 8, 'big')\n",
    "pub_e = pub.e.to_bytes((pub.e.bit_length() + 7) // 8, 'big')"
   ]
  },
  {
   "cell_type": "code",
   "execution_count": 87,
   "metadata": {},
   "outputs": [
    {
     "data": {
      "text/plain": [
       "b'\\x01\\x00\\x01'"
      ]
     },
     "execution_count": 87,
     "metadata": {},
     "output_type": "execute_result"
    }
   ],
   "source": [
    "pub_e"
   ]
  },
  {
   "cell_type": "code",
   "execution_count": 78,
   "metadata": {},
   "outputs": [],
   "source": [
    "len_pub_n = len(pub_n).to_bytes(1, 'big')"
   ]
  },
  {
   "cell_type": "code",
   "execution_count": 98,
   "metadata": {},
   "outputs": [
    {
     "data": {
      "text/plain": [
       "b'\\x9d,R.%\\x9d\\xe8\\xd9\\x17\\xb7\\xbe1`N\\xdaS'"
      ]
     },
     "execution_count": 98,
     "metadata": {},
     "output_type": "execute_result"
    }
   ],
   "source": [
    "pub_n"
   ]
  },
  {
   "cell_type": "code",
   "execution_count": 94,
   "metadata": {},
   "outputs": [],
   "source": [
    "with open(\"../.giraffe/pub_key.giraffe\", 'wb') as file:\n",
    "    file.write(len_pub_n)\n",
    "    file.write(pub_n),\n",
    "    file.write(pub_e)"
   ]
  },
  {
   "cell_type": "code",
   "execution_count": 123,
   "metadata": {},
   "outputs": [],
   "source": [
    "with open(\"../.giraffe/pub_key.giraffe\", 'rb') as file:\n",
    "    file_bytes = file.read()\n",
    "    key_len = file_bytes[0]\n",
    "    n_bytes = file_bytes[1: key_len + 1]\n",
    "    e_bytes = file_bytes[key_len + 1:]\n",
    "\n",
    "    n = int.from_bytes(n_bytes)\n",
    "    e = int.from_bytes(e_bytes)\n",
    "\n",
    "    key = rsa.PublicKey(n, e)\n",
    "    "
   ]
  },
  {
   "cell_type": "code",
   "execution_count": 124,
   "metadata": {},
   "outputs": [
    {
     "data": {
      "text/plain": [
       "PublicKey(208918923213732145865433141058923846227, 65537)"
      ]
     },
     "execution_count": 124,
     "metadata": {},
     "output_type": "execute_result"
    }
   ],
   "source": [
    "key"
   ]
  },
  {
   "cell_type": "code",
   "execution_count": 119,
   "metadata": {},
   "outputs": [],
   "source": [
    "\n",
    "priv_n = priv.n.to_bytes((priv.n.bit_length() + 7) // 8, 'big')\n",
    "len_priv_n = len(priv_n).to_bytes(1, 'big')\n",
    "priv_e = priv.e.to_bytes((priv.e.bit_length() + 7) // 8, 'big')\n",
    "len_priv_e = len(priv_e).to_bytes(1, 'big')\n",
    "priv_d = priv.d.to_bytes((priv.d.bit_length() + 7) // 8, 'big')\n",
    "len_priv_d = len(priv_d).to_bytes(1, 'big')\n",
    "priv_p = priv.p.to_bytes((priv.p.bit_length() + 7) // 8, 'big')\n",
    "len_priv_p = len(priv_p).to_bytes(1, 'big')\n",
    "priv_q = priv.q.to_bytes((priv.q.bit_length() + 7) // 8, 'big')"
   ]
  },
  {
   "cell_type": "code",
   "execution_count": 127,
   "metadata": {},
   "outputs": [],
   "source": [
    "with open(\"../.giraffe/.giraffe\", 'wb') as file:\n",
    "    file.write(len_priv_n)\n",
    "    file.write(len_priv_e)\n",
    "    file.write(len_priv_d)\n",
    "    file.write(len_priv_p)\n",
    "    file.write(priv_n)\n",
    "    file.write(priv_e)\n",
    "    file.write(priv_d)\n",
    "    file.write(priv_p)\n",
    "    file.write(priv_q)\n",
    "    \n"
   ]
  },
  {
   "cell_type": "code",
   "execution_count": 129,
   "metadata": {},
   "outputs": [
    {
     "name": "stdout",
     "output_type": "stream",
     "text": [
      "208918923213732145865433141058923846227 65537 54227685166986550043149517953720205321 183388041279939752453 1139217812435325559\n"
     ]
    }
   ],
   "source": [
    "with open(\"../.giraffe/.giraffe\", 'rb') as file:\n",
    "    file_bytes = file.read()\n",
    "    n_len = file_bytes[0]\n",
    "    e_len = file_bytes[1]\n",
    "    d_len = file_bytes[2]\n",
    "    p_len = file_bytes[3]\n",
    "\n",
    "    n_bytes = file_bytes[4: n_len + 4]\n",
    "    e_bytes = file_bytes[n_len + 4: n_len + e_len + 4]\n",
    "    d_bytes = file_bytes[n_len + e_len + 4: n_len + e_len + d_len + 4]\n",
    "    p_bytes = file_bytes[n_len + e_len + d_len + 4: n_len + e_len + d_len + p_len + 4]\n",
    "    q_bytes = file_bytes[n_len + e_len + d_len + p_len + 4:]\n",
    "\n",
    "    n = int.from_bytes(n_bytes)\n",
    "    e = int.from_bytes(e_bytes)\n",
    "    d = int.from_bytes(d_bytes)\n",
    "    p = int.from_bytes(p_bytes)\n",
    "    q = int.from_bytes(q_bytes)\n",
    "    print(n,e,d,p,q)\n",
    "\n",
    "    private_key = rsa.PrivateKey(n,e,d,p,q)\n",
    "    "
   ]
  },
  {
   "cell_type": "code",
   "execution_count": 130,
   "metadata": {},
   "outputs": [],
   "source": [
    "from pathlib import Path"
   ]
  },
  {
   "cell_type": "code",
   "execution_count": 132,
   "metadata": {},
   "outputs": [
    {
     "data": {
      "text/plain": [
       "PosixPath('/Users/uk45527946')"
      ]
     },
     "execution_count": 132,
     "metadata": {},
     "output_type": "execute_result"
    }
   ],
   "source": [
    "Path.home()"
   ]
  },
  {
   "cell_type": "code",
   "execution_count": null,
   "metadata": {},
   "outputs": [],
   "source": []
  }
 ],
 "metadata": {
  "kernelspec": {
   "display_name": "base",
   "language": "python",
   "name": "python3"
  },
  "language_info": {
   "codemirror_mode": {
    "name": "ipython",
    "version": 3
   },
   "file_extension": ".py",
   "mimetype": "text/x-python",
   "name": "python",
   "nbconvert_exporter": "python",
   "pygments_lexer": "ipython3",
   "version": "3.12.7"
  }
 },
 "nbformat": 4,
 "nbformat_minor": 2
}
